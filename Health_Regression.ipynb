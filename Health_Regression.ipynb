{
  "nbformat": 4,
  "nbformat_minor": 0,
  "metadata": {
    "colab": {
      "name": "Health_Regression.ipynb",
      "provenance": []
    },
    "kernelspec": {
      "name": "python3",
      "display_name": "Python 3"
    },
    "language_info": {
      "name": "python"
    }
  },
  "cells": [
    {
      "cell_type": "markdown",
      "source": [
        "*Note: You are currently reading this using Google Colaboratory which is a cloud-hosted version of Jupyter Notebook. This is a document containing both text cells for documentation and runnable code cells. If you are unfamiliar with Jupyter Notebook, watch this 3-minute introduction before starting this challenge: https://www.youtube.com/watch?v=inN8seMm7UI*\n",
        "\n",
        "---\n",
        "\n",
        "In this challenge, you will predict healthcare costs using a regression algorithm.\n",
        "\n",
        "You are given a dataset that contains information about different people including their healthcare costs. Use the data to predict healthcare costs based on new data.\n",
        "\n",
        "The first two cells of this notebook import libraries and the data.\n",
        "\n",
        "Make sure to convert categorical data to numbers. Use 80% of the data as the `train_dataset` and 20% of the data as the `test_dataset`.\n",
        "\n",
        "`pop` off the \"expenses\" column from these datasets to create new datasets called `train_labels` and `test_labels`. Use these labels when training your model.\n",
        "\n",
        "Create a model and train it with the `train_dataset`. Run the final cell in this notebook to check your model. The final cell will use the unseen `test_dataset` to check how well the model generalizes.\n",
        "\n",
        "To pass the challenge, `model.evaluate` must return a Mean Absolute Error of under 3500. This means it predicts health care costs correctly within $3500.\n",
        "\n",
        "The final cell will also predict expenses using the `test_dataset` and graph the results."
      ],
      "metadata": {
        "id": "Rg7TzmWrllBG"
      }
    },
    {
      "cell_type": "code",
      "source": [
        "# Import libraries. You may or may not use all of these.\n",
        "!pip install -q git+https://github.com/tensorflow/docs\n",
        "import matplotlib.pyplot as plt\n",
        "import numpy as np\n",
        "import pandas as pd\n",
        "\n",
        "try:\n",
        "  # %tensorflow_version only exists in Colab.\n",
        "  %tensorflow_version 2.x\n",
        "except Exception:\n",
        "  pass\n",
        "import tensorflow as tf\n",
        "\n",
        "from tensorflow import keras\n",
        "from tensorflow.keras import layers\n",
        "\n",
        "import tensorflow_docs as tfdocs\n",
        "import tensorflow_docs.plots\n",
        "import tensorflow_docs.modeling"
      ],
      "metadata": {
        "id": "Jb3LqnxdlnGm",
        "colab": {
          "base_uri": "https://localhost:8080/"
        },
        "outputId": "dcaaa88c-804b-47c2-ca62-202d47c550c5"
      },
      "execution_count": null,
      "outputs": [
        {
          "output_type": "stream",
          "name": "stdout",
          "text": [
            "  Building wheel for tensorflow-docs (setup.py) ... \u001b[?25l\u001b[?25hdone\n"
          ]
        }
      ]
    },
    {
      "cell_type": "code",
      "source": [
        "# Import data\n",
        "!wget https://cdn.freecodecamp.org/project-data/health-costs/insurance.csv\n",
        "dataset = pd.read_csv('insurance.csv')\n",
        "dataset.tail()"
      ],
      "metadata": {
        "id": "QaRbXdyBlpfw",
        "colab": {
          "base_uri": "https://localhost:8080/",
          "height": 412
        },
        "outputId": "b2126929-8c46-4dbf-aa97-ae6c5e2743b2"
      },
      "execution_count": null,
      "outputs": [
        {
          "output_type": "stream",
          "name": "stdout",
          "text": [
            "--2022-03-29 12:18:48--  https://cdn.freecodecamp.org/project-data/health-costs/insurance.csv\n",
            "Resolving cdn.freecodecamp.org (cdn.freecodecamp.org)... 104.26.3.33, 172.67.70.149, 104.26.2.33, ...\n",
            "Connecting to cdn.freecodecamp.org (cdn.freecodecamp.org)|104.26.3.33|:443... connected.\n",
            "HTTP request sent, awaiting response... 200 OK\n",
            "Length: 50264 (49K) [text/csv]\n",
            "Saving to: ‘insurance.csv’\n",
            "\n",
            "\rinsurance.csv         0%[                    ]       0  --.-KB/s               \rinsurance.csv       100%[===================>]  49.09K  --.-KB/s    in 0s      \n",
            "\n",
            "2022-03-29 12:18:48 (108 MB/s) - ‘insurance.csv’ saved [50264/50264]\n",
            "\n"
          ]
        },
        {
          "output_type": "execute_result",
          "data": {
            "text/plain": [
              "      age     sex   bmi  children smoker     region  expenses\n",
              "1333   50    male  31.0         3     no  northwest  10600.55\n",
              "1334   18  female  31.9         0     no  northeast   2205.98\n",
              "1335   18  female  36.9         0     no  southeast   1629.83\n",
              "1336   21  female  25.8         0     no  southwest   2007.95\n",
              "1337   61  female  29.1         0    yes  northwest  29141.36"
            ],
            "text/html": [
              "\n",
              "  <div id=\"df-43de080c-8358-4f94-ab26-1a6408522e94\">\n",
              "    <div class=\"colab-df-container\">\n",
              "      <div>\n",
              "<style scoped>\n",
              "    .dataframe tbody tr th:only-of-type {\n",
              "        vertical-align: middle;\n",
              "    }\n",
              "\n",
              "    .dataframe tbody tr th {\n",
              "        vertical-align: top;\n",
              "    }\n",
              "\n",
              "    .dataframe thead th {\n",
              "        text-align: right;\n",
              "    }\n",
              "</style>\n",
              "<table border=\"1\" class=\"dataframe\">\n",
              "  <thead>\n",
              "    <tr style=\"text-align: right;\">\n",
              "      <th></th>\n",
              "      <th>age</th>\n",
              "      <th>sex</th>\n",
              "      <th>bmi</th>\n",
              "      <th>children</th>\n",
              "      <th>smoker</th>\n",
              "      <th>region</th>\n",
              "      <th>expenses</th>\n",
              "    </tr>\n",
              "  </thead>\n",
              "  <tbody>\n",
              "    <tr>\n",
              "      <th>1333</th>\n",
              "      <td>50</td>\n",
              "      <td>male</td>\n",
              "      <td>31.0</td>\n",
              "      <td>3</td>\n",
              "      <td>no</td>\n",
              "      <td>northwest</td>\n",
              "      <td>10600.55</td>\n",
              "    </tr>\n",
              "    <tr>\n",
              "      <th>1334</th>\n",
              "      <td>18</td>\n",
              "      <td>female</td>\n",
              "      <td>31.9</td>\n",
              "      <td>0</td>\n",
              "      <td>no</td>\n",
              "      <td>northeast</td>\n",
              "      <td>2205.98</td>\n",
              "    </tr>\n",
              "    <tr>\n",
              "      <th>1335</th>\n",
              "      <td>18</td>\n",
              "      <td>female</td>\n",
              "      <td>36.9</td>\n",
              "      <td>0</td>\n",
              "      <td>no</td>\n",
              "      <td>southeast</td>\n",
              "      <td>1629.83</td>\n",
              "    </tr>\n",
              "    <tr>\n",
              "      <th>1336</th>\n",
              "      <td>21</td>\n",
              "      <td>female</td>\n",
              "      <td>25.8</td>\n",
              "      <td>0</td>\n",
              "      <td>no</td>\n",
              "      <td>southwest</td>\n",
              "      <td>2007.95</td>\n",
              "    </tr>\n",
              "    <tr>\n",
              "      <th>1337</th>\n",
              "      <td>61</td>\n",
              "      <td>female</td>\n",
              "      <td>29.1</td>\n",
              "      <td>0</td>\n",
              "      <td>yes</td>\n",
              "      <td>northwest</td>\n",
              "      <td>29141.36</td>\n",
              "    </tr>\n",
              "  </tbody>\n",
              "</table>\n",
              "</div>\n",
              "      <button class=\"colab-df-convert\" onclick=\"convertToInteractive('df-43de080c-8358-4f94-ab26-1a6408522e94')\"\n",
              "              title=\"Convert this dataframe to an interactive table.\"\n",
              "              style=\"display:none;\">\n",
              "        \n",
              "  <svg xmlns=\"http://www.w3.org/2000/svg\" height=\"24px\"viewBox=\"0 0 24 24\"\n",
              "       width=\"24px\">\n",
              "    <path d=\"M0 0h24v24H0V0z\" fill=\"none\"/>\n",
              "    <path d=\"M18.56 5.44l.94 2.06.94-2.06 2.06-.94-2.06-.94-.94-2.06-.94 2.06-2.06.94zm-11 1L8.5 8.5l.94-2.06 2.06-.94-2.06-.94L8.5 2.5l-.94 2.06-2.06.94zm10 10l.94 2.06.94-2.06 2.06-.94-2.06-.94-.94-2.06-.94 2.06-2.06.94z\"/><path d=\"M17.41 7.96l-1.37-1.37c-.4-.4-.92-.59-1.43-.59-.52 0-1.04.2-1.43.59L10.3 9.45l-7.72 7.72c-.78.78-.78 2.05 0 2.83L4 21.41c.39.39.9.59 1.41.59.51 0 1.02-.2 1.41-.59l7.78-7.78 2.81-2.81c.8-.78.8-2.07 0-2.86zM5.41 20L4 18.59l7.72-7.72 1.47 1.35L5.41 20z\"/>\n",
              "  </svg>\n",
              "      </button>\n",
              "      \n",
              "  <style>\n",
              "    .colab-df-container {\n",
              "      display:flex;\n",
              "      flex-wrap:wrap;\n",
              "      gap: 12px;\n",
              "    }\n",
              "\n",
              "    .colab-df-convert {\n",
              "      background-color: #E8F0FE;\n",
              "      border: none;\n",
              "      border-radius: 50%;\n",
              "      cursor: pointer;\n",
              "      display: none;\n",
              "      fill: #1967D2;\n",
              "      height: 32px;\n",
              "      padding: 0 0 0 0;\n",
              "      width: 32px;\n",
              "    }\n",
              "\n",
              "    .colab-df-convert:hover {\n",
              "      background-color: #E2EBFA;\n",
              "      box-shadow: 0px 1px 2px rgba(60, 64, 67, 0.3), 0px 1px 3px 1px rgba(60, 64, 67, 0.15);\n",
              "      fill: #174EA6;\n",
              "    }\n",
              "\n",
              "    [theme=dark] .colab-df-convert {\n",
              "      background-color: #3B4455;\n",
              "      fill: #D2E3FC;\n",
              "    }\n",
              "\n",
              "    [theme=dark] .colab-df-convert:hover {\n",
              "      background-color: #434B5C;\n",
              "      box-shadow: 0px 1px 3px 1px rgba(0, 0, 0, 0.15);\n",
              "      filter: drop-shadow(0px 1px 2px rgba(0, 0, 0, 0.3));\n",
              "      fill: #FFFFFF;\n",
              "    }\n",
              "  </style>\n",
              "\n",
              "      <script>\n",
              "        const buttonEl =\n",
              "          document.querySelector('#df-43de080c-8358-4f94-ab26-1a6408522e94 button.colab-df-convert');\n",
              "        buttonEl.style.display =\n",
              "          google.colab.kernel.accessAllowed ? 'block' : 'none';\n",
              "\n",
              "        async function convertToInteractive(key) {\n",
              "          const element = document.querySelector('#df-43de080c-8358-4f94-ab26-1a6408522e94');\n",
              "          const dataTable =\n",
              "            await google.colab.kernel.invokeFunction('convertToInteractive',\n",
              "                                                     [key], {});\n",
              "          if (!dataTable) return;\n",
              "\n",
              "          const docLinkHtml = 'Like what you see? Visit the ' +\n",
              "            '<a target=\"_blank\" href=https://colab.research.google.com/notebooks/data_table.ipynb>data table notebook</a>'\n",
              "            + ' to learn more about interactive tables.';\n",
              "          element.innerHTML = '';\n",
              "          dataTable['output_type'] = 'display_data';\n",
              "          await google.colab.output.renderOutput(dataTable, element);\n",
              "          const docLink = document.createElement('div');\n",
              "          docLink.innerHTML = docLinkHtml;\n",
              "          element.appendChild(docLink);\n",
              "        }\n",
              "      </script>\n",
              "    </div>\n",
              "  </div>\n",
              "  "
            ]
          },
          "metadata": {},
          "execution_count": 2
        }
      ]
    },
    {
      "cell_type": "markdown",
      "source": [
        "---\n",
        "# Unique values and dataset info"
      ],
      "metadata": {
        "id": "kTP2_cLXlxjx"
      }
    },
    {
      "cell_type": "code",
      "source": [
        "original_dataset = dataset\n",
        "print(dataset.info(),\n",
        "dataset[\"sex\"].unique(),\n",
        "dataset[\"smoker\"].unique(),\n",
        "dataset[\"region\"].unique())"
      ],
      "metadata": {
        "id": "b0YrDo3_mACd",
        "colab": {
          "base_uri": "https://localhost:8080/"
        },
        "outputId": "379138ee-f97a-43c6-f83b-561712a1b8a1"
      },
      "execution_count": null,
      "outputs": [
        {
          "output_type": "stream",
          "name": "stdout",
          "text": [
            "<class 'pandas.core.frame.DataFrame'>\n",
            "RangeIndex: 1338 entries, 0 to 1337\n",
            "Data columns (total 7 columns):\n",
            " #   Column    Non-Null Count  Dtype  \n",
            "---  ------    --------------  -----  \n",
            " 0   age       1338 non-null   int64  \n",
            " 1   sex       1338 non-null   object \n",
            " 2   bmi       1338 non-null   float64\n",
            " 3   children  1338 non-null   int64  \n",
            " 4   smoker    1338 non-null   object \n",
            " 5   region    1338 non-null   object \n",
            " 6   expenses  1338 non-null   float64\n",
            "dtypes: float64(2), int64(2), object(3)\n",
            "memory usage: 73.3+ KB\n",
            "None ['female' 'male'] ['yes' 'no'] ['southwest' 'southeast' 'northwest' 'northeast']\n"
          ]
        }
      ]
    },
    {
      "cell_type": "markdown",
      "source": [
        "---\n",
        "# Mapping objects to numeric values"
      ],
      "metadata": {
        "id": "x4ISsTpUmB7C"
      }
    },
    {
      "cell_type": "code",
      "source": [
        "dataset[\"sex_num\"] = dataset[\"sex\"].apply(lambda x : 1 if x == \"male\" else 2)\n",
        "dataset[\"smoker_stat\"] = dataset[\"smoker\"].apply(lambda s : 1 if s == \"yes\" else 0)\n",
        "dataset[\"region_map\"] = dataset[\"region\"].map({'southwest' : 1, 'southeast' : 2, 'northwest' : 3, 'northeast' : 4})\n",
        "dataset = dataset.drop([\"sex\", \"smoker\", \"region\"], axis = 1)"
      ],
      "metadata": {
        "id": "bUAIzBeAmHpe"
      },
      "execution_count": null,
      "outputs": []
    },
    {
      "cell_type": "markdown",
      "source": [
        "---\n",
        "# Splitting"
      ],
      "metadata": {
        "id": "P-TdVAxMmKMi"
      }
    },
    {
      "cell_type": "code",
      "source": [
        "from sklearn.model_selection import train_test_split as tts\n",
        "y = dataset.pop(\"expenses\")\n",
        "x = dataset\n",
        "train_dataset, test_dataset, train_labels, test_labels = tts(x, y, test_size = 0.2)"
      ],
      "metadata": {
        "id": "kUcKwHeNmJEm"
      },
      "execution_count": null,
      "outputs": []
    },
    {
      "cell_type": "markdown",
      "source": [
        "---\n",
        "# Model"
      ],
      "metadata": {
        "id": "XgT7-k7ymPP0"
      }
    },
    {
      "cell_type": "code",
      "source": [
        "from keras.models import Sequential\n",
        "from keras.layers import Dense\n",
        "from tensorflow.keras.optimizers import Adam\n",
        "adam = Adam(learning_rate = 0.1)\n",
        "model = Sequential([\n",
        "  Dense(72, input_dim = 6, activation=\"relu\"),\n",
        "  Dense(36, activation = \"relu\"),\n",
        "  Dense(1)\n",
        "])\n",
        "model.compile(optimizer = adam , loss = 'mae', metrics = ['mae', 'mse'])\n",
        "model.fit(train_dataset, train_labels, epochs = 50)"
      ],
      "metadata": {
        "id": "M8U9cQ4BmRFF",
        "colab": {
          "base_uri": "https://localhost:8080/"
        },
        "outputId": "16dc9da4-1a17-4224-d125-c9c02582169c"
      },
      "execution_count": null,
      "outputs": [
        {
          "output_type": "stream",
          "name": "stdout",
          "text": [
            "Epoch 1/50\n",
            "34/34 [==============================] - 1s 2ms/step - loss: 8191.0054 - mae: 8191.0054 - mse: 176135840.0000\n",
            "Epoch 2/50\n",
            "34/34 [==============================] - 0s 2ms/step - loss: 6568.6021 - mae: 6568.6021 - mse: 153828512.0000\n",
            "Epoch 3/50\n",
            "34/34 [==============================] - 0s 2ms/step - loss: 6038.5806 - mae: 6038.5806 - mse: 136757216.0000\n",
            "Epoch 4/50\n",
            "34/34 [==============================] - 0s 2ms/step - loss: 5180.2451 - mae: 5180.2451 - mse: 91373312.0000\n",
            "Epoch 5/50\n",
            "34/34 [==============================] - 0s 2ms/step - loss: 4145.8340 - mae: 4145.8340 - mse: 58969532.0000\n",
            "Epoch 6/50\n",
            "34/34 [==============================] - 0s 2ms/step - loss: 3813.7634 - mae: 3813.7634 - mse: 43882156.0000\n",
            "Epoch 7/50\n",
            "34/34 [==============================] - 0s 2ms/step - loss: 3997.3887 - mae: 3997.3887 - mse: 51636224.0000\n",
            "Epoch 8/50\n",
            "34/34 [==============================] - 0s 2ms/step - loss: 3765.6660 - mae: 3765.6660 - mse: 42818136.0000\n",
            "Epoch 9/50\n",
            "34/34 [==============================] - 0s 2ms/step - loss: 3643.8059 - mae: 3643.8059 - mse: 41159756.0000\n",
            "Epoch 10/50\n",
            "34/34 [==============================] - 0s 2ms/step - loss: 3418.6560 - mae: 3418.6560 - mse: 40361276.0000\n",
            "Epoch 11/50\n",
            "34/34 [==============================] - 0s 2ms/step - loss: 3401.7498 - mae: 3401.7498 - mse: 40988820.0000\n",
            "Epoch 12/50\n",
            "34/34 [==============================] - 0s 2ms/step - loss: 3260.3799 - mae: 3260.3799 - mse: 38215176.0000\n",
            "Epoch 13/50\n",
            "34/34 [==============================] - 0s 2ms/step - loss: 3416.4854 - mae: 3416.4854 - mse: 43857072.0000\n",
            "Epoch 14/50\n",
            "34/34 [==============================] - 0s 2ms/step - loss: 3978.9214 - mae: 3978.9214 - mse: 39908940.0000\n",
            "Epoch 15/50\n",
            "34/34 [==============================] - 0s 3ms/step - loss: 3114.8831 - mae: 3114.8831 - mse: 36836788.0000\n",
            "Epoch 16/50\n",
            "34/34 [==============================] - 0s 4ms/step - loss: 3294.3630 - mae: 3294.3630 - mse: 38928068.0000\n",
            "Epoch 17/50\n",
            "34/34 [==============================] - 0s 3ms/step - loss: 3489.0190 - mae: 3489.0190 - mse: 41525720.0000\n",
            "Epoch 18/50\n",
            "34/34 [==============================] - 0s 3ms/step - loss: 3208.3496 - mae: 3208.3496 - mse: 38376264.0000\n",
            "Epoch 19/50\n",
            "34/34 [==============================] - 0s 2ms/step - loss: 3278.4231 - mae: 3278.4231 - mse: 39689172.0000\n",
            "Epoch 20/50\n",
            "34/34 [==============================] - 0s 2ms/step - loss: 3271.0696 - mae: 3271.0696 - mse: 37398820.0000\n",
            "Epoch 21/50\n",
            "34/34 [==============================] - 0s 2ms/step - loss: 3156.5627 - mae: 3156.5627 - mse: 40317916.0000\n",
            "Epoch 22/50\n",
            "34/34 [==============================] - 0s 2ms/step - loss: 2999.6089 - mae: 2999.6089 - mse: 36645572.0000\n",
            "Epoch 23/50\n",
            "34/34 [==============================] - 0s 2ms/step - loss: 3314.7380 - mae: 3314.7380 - mse: 41820552.0000\n",
            "Epoch 24/50\n",
            "34/34 [==============================] - 0s 2ms/step - loss: 3164.4580 - mae: 3164.4580 - mse: 38027060.0000\n",
            "Epoch 25/50\n",
            "34/34 [==============================] - 0s 2ms/step - loss: 2925.7390 - mae: 2925.7390 - mse: 35116956.0000\n",
            "Epoch 26/50\n",
            "34/34 [==============================] - 0s 2ms/step - loss: 2905.6116 - mae: 2905.6116 - mse: 33927916.0000\n",
            "Epoch 27/50\n",
            "34/34 [==============================] - 0s 2ms/step - loss: 2858.4880 - mae: 2858.4880 - mse: 35131352.0000\n",
            "Epoch 28/50\n",
            "34/34 [==============================] - 0s 2ms/step - loss: 3030.3887 - mae: 3030.3887 - mse: 37077064.0000\n",
            "Epoch 29/50\n",
            "34/34 [==============================] - 0s 2ms/step - loss: 3223.2039 - mae: 3223.2039 - mse: 36097096.0000\n",
            "Epoch 30/50\n",
            "34/34 [==============================] - 0s 2ms/step - loss: 3090.1135 - mae: 3090.1135 - mse: 36384080.0000\n",
            "Epoch 31/50\n",
            "34/34 [==============================] - 0s 2ms/step - loss: 2812.6292 - mae: 2812.6292 - mse: 34400488.0000\n",
            "Epoch 32/50\n",
            "34/34 [==============================] - 0s 2ms/step - loss: 3040.8796 - mae: 3040.8796 - mse: 34642364.0000\n",
            "Epoch 33/50\n",
            "34/34 [==============================] - 0s 2ms/step - loss: 2920.0928 - mae: 2920.0928 - mse: 37397188.0000\n",
            "Epoch 34/50\n",
            "34/34 [==============================] - 0s 2ms/step - loss: 2962.1548 - mae: 2962.1548 - mse: 33538190.0000\n",
            "Epoch 35/50\n",
            "34/34 [==============================] - 0s 2ms/step - loss: 2884.9141 - mae: 2884.9141 - mse: 35062152.0000\n",
            "Epoch 36/50\n",
            "34/34 [==============================] - 0s 2ms/step - loss: 2788.2087 - mae: 2788.2087 - mse: 33673352.0000\n",
            "Epoch 37/50\n",
            "34/34 [==============================] - 0s 2ms/step - loss: 2851.6270 - mae: 2851.6270 - mse: 33768256.0000\n",
            "Epoch 38/50\n",
            "34/34 [==============================] - 0s 2ms/step - loss: 2742.3601 - mae: 2742.3601 - mse: 33429206.0000\n",
            "Epoch 39/50\n",
            "34/34 [==============================] - 0s 2ms/step - loss: 2973.6655 - mae: 2973.6655 - mse: 33630096.0000\n",
            "Epoch 40/50\n",
            "34/34 [==============================] - 0s 2ms/step - loss: 3039.9321 - mae: 3039.9321 - mse: 36197100.0000\n",
            "Epoch 41/50\n",
            "34/34 [==============================] - 0s 2ms/step - loss: 2944.4756 - mae: 2944.4756 - mse: 32685146.0000\n",
            "Epoch 42/50\n",
            "34/34 [==============================] - 0s 2ms/step - loss: 2875.5444 - mae: 2875.5444 - mse: 31321048.0000\n",
            "Epoch 43/50\n",
            "34/34 [==============================] - 0s 2ms/step - loss: 2743.4597 - mae: 2743.4597 - mse: 32314228.0000\n",
            "Epoch 44/50\n",
            "34/34 [==============================] - 0s 2ms/step - loss: 2912.3669 - mae: 2912.3669 - mse: 33272922.0000\n",
            "Epoch 45/50\n",
            "34/34 [==============================] - 0s 2ms/step - loss: 2843.3066 - mae: 2843.3066 - mse: 34091000.0000\n",
            "Epoch 46/50\n",
            "34/34 [==============================] - 0s 2ms/step - loss: 3202.6831 - mae: 3202.6831 - mse: 37239896.0000\n",
            "Epoch 47/50\n",
            "34/34 [==============================] - 0s 6ms/step - loss: 2786.9082 - mae: 2786.9082 - mse: 30995414.0000\n",
            "Epoch 48/50\n",
            "34/34 [==============================] - 0s 4ms/step - loss: 2780.6536 - mae: 2780.6536 - mse: 32407980.0000\n",
            "Epoch 49/50\n",
            "34/34 [==============================] - 0s 3ms/step - loss: 2723.6670 - mae: 2723.6670 - mse: 33409230.0000\n",
            "Epoch 50/50\n",
            "34/34 [==============================] - 0s 4ms/step - loss: 2675.1914 - mae: 2675.1914 - mse: 32272652.0000\n"
          ]
        },
        {
          "output_type": "execute_result",
          "data": {
            "text/plain": [
              "<keras.callbacks.History at 0x7fe6af7c4d10>"
            ]
          },
          "metadata": {},
          "execution_count": 6
        }
      ]
    },
    {
      "cell_type": "code",
      "source": [
        "# RUN THIS CELL TO TEST YOUR MODEL. DO NOT MODIFY CONTENTS.\n",
        "# Test model by checking how well the model generalizes using the test set.\n",
        "loss, mae, mse = model.evaluate(test_dataset, test_labels, verbose=2)\n",
        "\n",
        "print(\"Testing set Mean Abs Error: {:5.2f} expenses\".format(mae))\n",
        "\n",
        "if mae < 3500:\n",
        "  print(\"You passed the challenge. Great job!\")\n",
        "else:\n",
        "  print(\"The Mean Abs Error must be less than 3500. Keep trying.\")\n",
        "\n",
        "# Plot predictions.\n",
        "test_predictions = model.predict(test_dataset).flatten()\n",
        "\n",
        "a = plt.axes(aspect='equal')\n",
        "plt.scatter(test_labels, test_predictions)\n",
        "plt.xlabel('True values (expenses)')\n",
        "plt.ylabel('Predictions (expenses)')\n",
        "lims = [0, 50000]\n",
        "plt.xlim(lims)\n",
        "plt.ylim(lims)\n",
        "_ = plt.plot(lims,lims)\n"
      ],
      "metadata": {
        "id": "ty8SpRsLlrhL",
        "colab": {
          "base_uri": "https://localhost:8080/",
          "height": 339
        },
        "outputId": "834c4f16-76a2-4277-c4a2-fbdf4fa4369e"
      },
      "execution_count": null,
      "outputs": [
        {
          "output_type": "stream",
          "name": "stdout",
          "text": [
            "9/9 - 0s - loss: 2580.1555 - mae: 2580.1555 - mse: 29935480.0000 - 341ms/epoch - 38ms/step\n",
            "Testing set Mean Abs Error: 2580.16 expenses\n",
            "You passed the challenge. Great job!\n"
          ]
        },
        {
          "output_type": "display_data",
          "data": {
            "text/plain": [
              "<Figure size 432x288 with 1 Axes>"
            ],
            "image/png": "[encoded data removed]"
          },
          "metadata": {
            "needs_background": "light"
          }
        }
      ]
    }
  ]
}